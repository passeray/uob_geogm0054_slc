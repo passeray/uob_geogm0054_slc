{
 "cells": [
  {
   "cell_type": "code",
   "execution_count": null,
   "id": "70244452-1398-4a37-8a4d-9b4f169e205b",
   "metadata": {},
   "outputs": [],
   "source": [
    "import numpy as np\n",
    "import matplotlib.pyplot as plt\n",
    "from calendar import month_name"
   ]
  },
  {
   "cell_type": "code",
   "execution_count": null,
   "id": "88a39a19-28ee-46fb-8784-2dae62758547",
   "metadata": {},
   "outputs": [],
   "source": [
    "year, month, tmax, tmin = np.loadtxt('rossonwyedata.txt',skiprows=7,usecols=(0,1,2,3),unpack=True)"
   ]
  },
  {
   "cell_type": "code",
   "execution_count": null,
   "id": "47c2bad5-c091-4dd1-baa9-9a20e975939a",
   "metadata": {},
   "outputs": [],
   "source": [
    "month_nums = range(1,13) # 1 to 12, inclusive\n",
    "month_names = [month_name[mm] + f' ({mm})'  for mm in month_nums]\n",
    "\n",
    "#create a list of 1D arrays, 1 for each month\n",
    "tmax_by_month = [tmax[month == mm] for mm in month_nums]\n",
    "\n",
    "#HINT reverse the month order to place January at the top \n",
    "#tmax_by_month.reverse() \n",
    "#month_names.reverse()\n",
    "\n",
    "#boxplot produces one box-and whisker for each 1D array in a list\n",
    "fig, ax = plt.subplots(1,1)\n",
    "__ = ax.boxplot(tmax_by_month, vert=False)\n",
    "# HINT add the keyword argument labels=month_names (Python < 3.9) or tick_labels=month_names (Python >= 3.9)\n",
    "__ = ax.set_xlabel(r'Temperature ($^\\circ$C)')\n",
    "__ = ax.set_ylabel('Month')\n",
    "__ = ax.set_title(f'Ross-on-Wye maximum temperatures, {int(np.min(year))} to {int(np.max(year))}')\n"
   ]
  }
 ],
 "metadata": {
  "kernelspec": {
   "display_name": "Python 3 (ipykernel)",
   "language": "python",
   "name": "python3"
  },
  "language_info": {
   "codemirror_mode": {
    "name": "ipython",
    "version": 3
   },
   "file_extension": ".py",
   "mimetype": "text/x-python",
   "name": "python",
   "nbconvert_exporter": "python",
   "pygments_lexer": "ipython3",
   "version": "3.12.7"
  }
 },
 "nbformat": 4,
 "nbformat_minor": 5
}
